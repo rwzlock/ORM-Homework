{
 "cells": [
  {
   "cell_type": "code",
   "execution_count": 34,
   "metadata": {},
   "outputs": [],
   "source": [
    "#Dependencies\n",
    "import sqlalchemy\n",
    "from sqlalchemy.ext.automap import automap_base\n",
    "from sqlalchemy.orm import Session\n",
    "from sqlalchemy import create_engine\n",
    "import pandas as pd \n",
    "import matplotlib.pyplot as plt\n",
    "import datetime"
   ]
  },
  {
   "cell_type": "code",
   "execution_count": 2,
   "metadata": {},
   "outputs": [],
   "source": [
    "#Connect to the database, define Base class\n",
    "engine = create_engine(\"sqlite:///Resources/hawaii.sqlite\")\n",
    "Base = automap_base()\n",
    "Base.prepare(engine, reflect=True)"
   ]
  },
  {
   "cell_type": "code",
   "execution_count": 3,
   "metadata": {},
   "outputs": [
    {
     "data": {
      "text/plain": [
       "['measurements_table', 'stations_table']"
      ]
     },
     "execution_count": 3,
     "metadata": {},
     "output_type": "execute_result"
    }
   ],
   "source": [
    "#Confirm that there are two tables in the database\n",
    "Base.classes.keys()"
   ]
  },
  {
   "cell_type": "code",
   "execution_count": 4,
   "metadata": {},
   "outputs": [],
   "source": [
    "#Set to variables\n",
    "Measurements = Base.classes.measurements_table\n",
    "Stations = Base.classes.stations_table"
   ]
  },
  {
   "cell_type": "code",
   "execution_count": 5,
   "metadata": {},
   "outputs": [],
   "source": [
    "#Connect the engine and start the session\n",
    "session = Session(engine)\n",
    "conn = engine.connect()"
   ]
  },
  {
   "cell_type": "code",
   "execution_count": 6,
   "metadata": {},
   "outputs": [
    {
     "name": "stdout",
     "output_type": "stream",
     "text": [
      "2016-05-13\n"
     ]
    },
    {
     "data": {
      "text/html": [
       "<div>\n",
       "<style scoped>\n",
       "    .dataframe tbody tr th:only-of-type {\n",
       "        vertical-align: middle;\n",
       "    }\n",
       "\n",
       "    .dataframe tbody tr th {\n",
       "        vertical-align: top;\n",
       "    }\n",
       "\n",
       "    .dataframe thead th {\n",
       "        text-align: right;\n",
       "    }\n",
       "</style>\n",
       "<table border=\"1\" class=\"dataframe\">\n",
       "  <thead>\n",
       "    <tr style=\"text-align: right;\">\n",
       "      <th></th>\n",
       "      <th>date</th>\n",
       "      <th>prcp</th>\n",
       "    </tr>\n",
       "  </thead>\n",
       "  <tbody>\n",
       "    <tr>\n",
       "      <th>0</th>\n",
       "      <td>2016-05-14</td>\n",
       "      <td>0.00</td>\n",
       "    </tr>\n",
       "    <tr>\n",
       "      <th>1</th>\n",
       "      <td>2016-05-15</td>\n",
       "      <td>0.02</td>\n",
       "    </tr>\n",
       "    <tr>\n",
       "      <th>2</th>\n",
       "      <td>2016-05-16</td>\n",
       "      <td>0.00</td>\n",
       "    </tr>\n",
       "    <tr>\n",
       "      <th>3</th>\n",
       "      <td>2016-05-17</td>\n",
       "      <td>0.00</td>\n",
       "    </tr>\n",
       "    <tr>\n",
       "      <th>4</th>\n",
       "      <td>2016-05-18</td>\n",
       "      <td>0.00</td>\n",
       "    </tr>\n",
       "  </tbody>\n",
       "</table>\n",
       "</div>"
      ],
      "text/plain": [
       "         date  prcp\n",
       "0  2016-05-14  0.00\n",
       "1  2016-05-15  0.02\n",
       "2  2016-05-16  0.00\n",
       "3  2016-05-17  0.00\n",
       "4  2016-05-18  0.00"
      ]
     },
     "execution_count": 6,
     "metadata": {},
     "output_type": "execute_result"
    }
   ],
   "source": [
    "#Create a dataframe corresponding only to data taken in the last year by manually defining the last date in the dataset, and counting back one year from\n",
    "#that date. (If we used today's date instead of the last date in the data, there would only be 6 dates in the dataframe because it ends in May 2017)\n",
    "twelve_months_date =  datetime.date(2017 , 5, 13) - datetime.timedelta(365)\n",
    "tmd = str(twelve_months_date)\n",
    "print(tmd)\n",
    "last_twelve_months_df = pd.read_sql(\"SELECT date, prcp FROM measurements_table WHERE date > '{}' \".format(tmd), conn)\n",
    "last_twelve_months_df.head()"
   ]
  },
  {
   "cell_type": "code",
   "execution_count": 7,
   "metadata": {},
   "outputs": [
    {
     "data": {
      "text/plain": [
       "<matplotlib.axes._subplots.AxesSubplot at 0x1b2a36b2a90>"
      ]
     },
     "execution_count": 7,
     "metadata": {},
     "output_type": "execute_result"
    },
    {
     "data": {
      "image/png": "[encoded data removed]",
      "text/plain": [
       "<matplotlib.figure.Figure at 0x1b2a33ae828>"
      ]
     },
     "metadata": {},
     "output_type": "display_data"
    }
   ],
   "source": [
    "#Plot using Pandas DataFrame Plot method.\n",
    "last_twelve_months_df.plot(kind='line', title='Precipitation vs Date for Hawaii', legend='Precipitation')"
   ]
  },
  {
   "cell_type": "code",
   "execution_count": 8,
   "metadata": {},
   "outputs": [
    {
     "data": {
      "text/html": [
       "<div>\n",
       "<style scoped>\n",
       "    .dataframe tbody tr th:only-of-type {\n",
       "        vertical-align: middle;\n",
       "    }\n",
       "\n",
       "    .dataframe tbody tr th {\n",
       "        vertical-align: top;\n",
       "    }\n",
       "\n",
       "    .dataframe thead th {\n",
       "        text-align: right;\n",
       "    }\n",
       "</style>\n",
       "<table border=\"1\" class=\"dataframe\">\n",
       "  <thead>\n",
       "    <tr style=\"text-align: right;\">\n",
       "      <th></th>\n",
       "      <th>prcp</th>\n",
       "    </tr>\n",
       "  </thead>\n",
       "  <tbody>\n",
       "    <tr>\n",
       "      <th>count</th>\n",
       "      <td>2864.000000</td>\n",
       "    </tr>\n",
       "    <tr>\n",
       "      <th>mean</th>\n",
       "      <td>0.177689</td>\n",
       "    </tr>\n",
       "    <tr>\n",
       "      <th>std</th>\n",
       "      <td>0.505796</td>\n",
       "    </tr>\n",
       "    <tr>\n",
       "      <th>min</th>\n",
       "      <td>0.000000</td>\n",
       "    </tr>\n",
       "    <tr>\n",
       "      <th>25%</th>\n",
       "      <td>0.000000</td>\n",
       "    </tr>\n",
       "    <tr>\n",
       "      <th>50%</th>\n",
       "      <td>0.010000</td>\n",
       "    </tr>\n",
       "    <tr>\n",
       "      <th>75%</th>\n",
       "      <td>0.130000</td>\n",
       "    </tr>\n",
       "    <tr>\n",
       "      <th>max</th>\n",
       "      <td>9.640000</td>\n",
       "    </tr>\n",
       "  </tbody>\n",
       "</table>\n",
       "</div>"
      ],
      "text/plain": [
       "              prcp\n",
       "count  2864.000000\n",
       "mean      0.177689\n",
       "std       0.505796\n",
       "min       0.000000\n",
       "25%       0.000000\n",
       "50%       0.010000\n",
       "75%       0.130000\n",
       "max       9.640000"
      ]
     },
     "execution_count": 8,
     "metadata": {},
     "output_type": "execute_result"
    }
   ],
   "source": [
    "#Summary statistics for last years precipitation dataframe\n",
    "last_twelve_months_df.describe()"
   ]
  },
  {
   "cell_type": "code",
   "execution_count": 11,
   "metadata": {},
   "outputs": [
    {
     "name": "stdout",
     "output_type": "stream",
     "text": [
      "9\n"
     ]
    }
   ],
   "source": [
    "#Number of stations in Hawaii\n",
    "station_number_df = pd.read_sql(\"SELECT * FROM stations_table\", conn)\n",
    "number_of_stations = len(station_number_df['station'])\n",
    "print(number_of_stations)"
   ]
  },
  {
   "cell_type": "code",
   "execution_count": 12,
   "metadata": {},
   "outputs": [
    {
     "name": "stdout",
     "output_type": "stream",
     "text": [
      "['USC00519397' 'USC00513117' 'USC00514830' 'USC00517948' 'USC00518838'\n",
      " 'USC00519523' 'USC00519281' 'USC00511918' 'USC00516128']\n",
      "[2724, 2709, 2202, 1372, 511, 2669, 2772, 1979, 2612]\n"
     ]
    },
    {
     "data": {
      "text/html": [
       "<div>\n",
       "<style scoped>\n",
       "    .dataframe tbody tr th:only-of-type {\n",
       "        vertical-align: middle;\n",
       "    }\n",
       "\n",
       "    .dataframe tbody tr th {\n",
       "        vertical-align: top;\n",
       "    }\n",
       "\n",
       "    .dataframe thead th {\n",
       "        text-align: right;\n",
       "    }\n",
       "</style>\n",
       "<table border=\"1\" class=\"dataframe\">\n",
       "  <thead>\n",
       "    <tr style=\"text-align: right;\">\n",
       "      <th></th>\n",
       "      <th>obs count</th>\n",
       "      <th>station</th>\n",
       "    </tr>\n",
       "  </thead>\n",
       "  <tbody>\n",
       "    <tr>\n",
       "      <th>6</th>\n",
       "      <td>2772</td>\n",
       "      <td>USC00519281</td>\n",
       "    </tr>\n",
       "    <tr>\n",
       "      <th>0</th>\n",
       "      <td>2724</td>\n",
       "      <td>USC00519397</td>\n",
       "    </tr>\n",
       "    <tr>\n",
       "      <th>1</th>\n",
       "      <td>2709</td>\n",
       "      <td>USC00513117</td>\n",
       "    </tr>\n",
       "    <tr>\n",
       "      <th>5</th>\n",
       "      <td>2669</td>\n",
       "      <td>USC00519523</td>\n",
       "    </tr>\n",
       "    <tr>\n",
       "      <th>8</th>\n",
       "      <td>2612</td>\n",
       "      <td>USC00516128</td>\n",
       "    </tr>\n",
       "    <tr>\n",
       "      <th>2</th>\n",
       "      <td>2202</td>\n",
       "      <td>USC00514830</td>\n",
       "    </tr>\n",
       "    <tr>\n",
       "      <th>7</th>\n",
       "      <td>1979</td>\n",
       "      <td>USC00511918</td>\n",
       "    </tr>\n",
       "    <tr>\n",
       "      <th>3</th>\n",
       "      <td>1372</td>\n",
       "      <td>USC00517948</td>\n",
       "    </tr>\n",
       "    <tr>\n",
       "      <th>4</th>\n",
       "      <td>511</td>\n",
       "      <td>USC00518838</td>\n",
       "    </tr>\n",
       "  </tbody>\n",
       "</table>\n",
       "</div>"
      ],
      "text/plain": [
       "   obs count      station\n",
       "6       2772  USC00519281\n",
       "0       2724  USC00519397\n",
       "1       2709  USC00513117\n",
       "5       2669  USC00519523\n",
       "8       2612  USC00516128\n",
       "2       2202  USC00514830\n",
       "7       1979  USC00511918\n",
       "3       1372  USC00517948\n",
       "4        511  USC00518838"
      ]
     },
     "execution_count": 12,
     "metadata": {},
     "output_type": "execute_result"
    }
   ],
   "source": [
    "#The next two cells test the method I will use to find the most popular station over the last year. In these cells I find the most\n",
    "#popular station for the overall data and use the results as a reference going forward.\n",
    "\n",
    "\n",
    "#Get all stations, remove all duplicates to get the total number of stations with their names\n",
    "station_obs_df = pd.read_sql(\"SELECT station from measurements_table\", conn)\n",
    "station_names = station_obs_df['station'].unique()\n",
    "\n",
    "#List to store the number of observations for each station\n",
    "stations_list_counts = [0 for y in range(0, len(station_names))]\n",
    "\n",
    "#Iterate through all stations numerically (I experienced difficulties using list comprehension for this loop)\n",
    "for x in range(0,len(station_names)):\n",
    "    #initialize or reset the counter to 0\n",
    "    counter=0\n",
    "    #Iterate over all observation data searching for observations made by the specific station we have picked in the above for loop\n",
    "    for station in station_obs_df['station']:\n",
    "        #if an opservation was taken by the above station, increase the counter by 1\n",
    "        if station == str(station_names[x]):\n",
    "            counter=counter+1\n",
    "    #After iterating over all observations, append the current counter value to the count list and move on to the next station\n",
    "    stations_list_counts[x] = counter\n",
    "#Print the results\n",
    "print(station_names)\n",
    "print(stations_list_counts)\n",
    "#Put them into a dictionary and convert to a dataframe\n",
    "test_dict = {\n",
    "    \"station\": station_names,\n",
    "    \"obs count\": stations_list_counts\n",
    "}\n",
    "obs_count_df = pd.DataFrame(test_dict)\n",
    "obs_count_df = obs_count_df.sort_values(by=['obs count'], ascending=False)\n",
    "obs_count_df"
   ]
  },
  {
   "cell_type": "code",
   "execution_count": 15,
   "metadata": {},
   "outputs": [
    {
     "name": "stdout",
     "output_type": "stream",
     "text": [
      "[0, 1, 2, 3, 4, 5, 6, 7, 8]\n",
      "USC00519281\n"
     ]
    }
   ],
   "source": [
    "#Redefine the index of the above dataframe (the dataframe above has index values that are not in order now that the list is sorted\n",
    "index1 = [z for z in range(0, len(station_names))]\n",
    "print(index1)\n",
    "obs_count_df['index1'] = index1\n",
    "sorted_count_df = obs_count_df.set_index('index1')\n",
    "#Display the new frame that has been indexed in descending order\n",
    "sorted_count_df.head()\n",
    "#Use the new index to find the most popular station by looking for the station with index 0\n",
    "popstation = sorted_count_df['station'][0]\n",
    "#Most popular station result\n",
    "print(popstation)"
   ]
  },
  {
   "cell_type": "code",
   "execution_count": 16,
   "metadata": {},
   "outputs": [
    {
     "data": {
      "text/html": [
       "<div>\n",
       "<style scoped>\n",
       "    .dataframe tbody tr th:only-of-type {\n",
       "        vertical-align: middle;\n",
       "    }\n",
       "\n",
       "    .dataframe tbody tr th {\n",
       "        vertical-align: top;\n",
       "    }\n",
       "\n",
       "    .dataframe thead th {\n",
       "        text-align: right;\n",
       "    }\n",
       "</style>\n",
       "<table border=\"1\" class=\"dataframe\">\n",
       "  <thead>\n",
       "    <tr style=\"text-align: right;\">\n",
       "      <th></th>\n",
       "      <th>station</th>\n",
       "      <th>date</th>\n",
       "    </tr>\n",
       "  </thead>\n",
       "  <tbody>\n",
       "    <tr>\n",
       "      <th>0</th>\n",
       "      <td>USC00519281</td>\n",
       "      <td>2016-05-14</td>\n",
       "    </tr>\n",
       "    <tr>\n",
       "      <th>1</th>\n",
       "      <td>USC00519281</td>\n",
       "      <td>2016-05-15</td>\n",
       "    </tr>\n",
       "    <tr>\n",
       "      <th>2</th>\n",
       "      <td>USC00519281</td>\n",
       "      <td>2016-05-16</td>\n",
       "    </tr>\n",
       "    <tr>\n",
       "      <th>3</th>\n",
       "      <td>USC00519281</td>\n",
       "      <td>2016-05-17</td>\n",
       "    </tr>\n",
       "    <tr>\n",
       "      <th>4</th>\n",
       "      <td>USC00519281</td>\n",
       "      <td>2016-05-18</td>\n",
       "    </tr>\n",
       "  </tbody>\n",
       "</table>\n",
       "</div>"
      ],
      "text/plain": [
       "       station        date\n",
       "0  USC00519281  2016-05-14\n",
       "1  USC00519281  2016-05-15\n",
       "2  USC00519281  2016-05-16\n",
       "3  USC00519281  2016-05-17\n",
       "4  USC00519281  2016-05-18"
      ]
     },
     "execution_count": 16,
     "metadata": {},
     "output_type": "execute_result"
    }
   ],
   "source": [
    "#Query for only data corresponding to the last year of collected data\n",
    "sobs_last_year = pd.read_sql(\"SELECT station, date FROM measurements_table WHERE date > '{}' and station == '{}' \".format(tmd, popstation), conn)\n",
    "sobs_last_year.head()"
   ]
  },
  {
   "cell_type": "code",
   "execution_count": 17,
   "metadata": {},
   "outputs": [
    {
     "name": "stdout",
     "output_type": "stream",
     "text": [
      "2017-05-13\n",
      "2016-05-13\n",
      "2282\n"
     ]
    }
   ],
   "source": [
    "#The end date in our year range is tmd2, the start date is twelve-months-date\n",
    "tmd2 = str(twelve_months_date+datetime.timedelta(365))\n",
    "print(tmd2)\n",
    "print(twelve_months_date)\n",
    "#Create a new dataframe corresponding only to the data taken between those two dates\n",
    "bin_df = pd.read_sql(\"Select station, date, tobs FROM measurements_table WHERE '{}' < date and date < '{}' \".format(tmd, tmd2), conn)\n",
    "#Check total number of observations\n",
    "print(len(bin_df['station']))"
   ]
  },
  {
   "cell_type": "code",
   "execution_count": 18,
   "metadata": {},
   "outputs": [
    {
     "data": {
      "text/html": [
       "<div>\n",
       "<style scoped>\n",
       "    .dataframe tbody tr th:only-of-type {\n",
       "        vertical-align: middle;\n",
       "    }\n",
       "\n",
       "    .dataframe tbody tr th {\n",
       "        vertical-align: top;\n",
       "    }\n",
       "\n",
       "    .dataframe thead th {\n",
       "        text-align: right;\n",
       "    }\n",
       "</style>\n",
       "<table border=\"1\" class=\"dataframe\">\n",
       "  <thead>\n",
       "    <tr style=\"text-align: right;\">\n",
       "      <th></th>\n",
       "      <th>station</th>\n",
       "      <th>date</th>\n",
       "      <th>tobs</th>\n",
       "    </tr>\n",
       "  </thead>\n",
       "  <tbody>\n",
       "    <tr>\n",
       "      <th>0</th>\n",
       "      <td>USC00519397</td>\n",
       "      <td>2016-05-14</td>\n",
       "      <td>77.0</td>\n",
       "    </tr>\n",
       "    <tr>\n",
       "      <th>1</th>\n",
       "      <td>USC00519397</td>\n",
       "      <td>2016-05-15</td>\n",
       "      <td>78.0</td>\n",
       "    </tr>\n",
       "    <tr>\n",
       "      <th>2</th>\n",
       "      <td>USC00519397</td>\n",
       "      <td>2016-05-16</td>\n",
       "      <td>77.0</td>\n",
       "    </tr>\n",
       "    <tr>\n",
       "      <th>3</th>\n",
       "      <td>USC00519397</td>\n",
       "      <td>2016-05-17</td>\n",
       "      <td>78.0</td>\n",
       "    </tr>\n",
       "    <tr>\n",
       "      <th>4</th>\n",
       "      <td>USC00519397</td>\n",
       "      <td>2016-05-18</td>\n",
       "      <td>79.0</td>\n",
       "    </tr>\n",
       "  </tbody>\n",
       "</table>\n",
       "</div>"
      ],
      "text/plain": [
       "       station        date  tobs\n",
       "0  USC00519397  2016-05-14  77.0\n",
       "1  USC00519397  2016-05-15  78.0\n",
       "2  USC00519397  2016-05-16  77.0\n",
       "3  USC00519397  2016-05-17  78.0\n",
       "4  USC00519397  2016-05-18  79.0"
      ]
     },
     "execution_count": 18,
     "metadata": {},
     "output_type": "execute_result"
    }
   ],
   "source": [
    "#Display Dataframe (tobs was converted to a float as it was inserted into the databse because the integer was too big to be read into a column using\n",
    "#sqlalchemy Integer method)\n",
    "bin_df.head()"
   ]
  },
  {
   "cell_type": "code",
   "execution_count": 20,
   "metadata": {},
   "outputs": [
    {
     "name": "stdout",
     "output_type": "stream",
     "text": [
      "['USC00519397' 'USC00513117' 'USC00514830' 'USC00517948' 'USC00519523'\n",
      " 'USC00519281' 'USC00516128']\n",
      "[363, 364, 303, 207, 340, 364, 341]\n"
     ]
    },
    {
     "data": {
      "text/html": [
       "<div>\n",
       "<style scoped>\n",
       "    .dataframe tbody tr th:only-of-type {\n",
       "        vertical-align: middle;\n",
       "    }\n",
       "\n",
       "    .dataframe tbody tr th {\n",
       "        vertical-align: top;\n",
       "    }\n",
       "\n",
       "    .dataframe thead th {\n",
       "        text-align: right;\n",
       "    }\n",
       "</style>\n",
       "<table border=\"1\" class=\"dataframe\">\n",
       "  <thead>\n",
       "    <tr style=\"text-align: right;\">\n",
       "      <th></th>\n",
       "      <th>obs count</th>\n",
       "      <th>station</th>\n",
       "    </tr>\n",
       "  </thead>\n",
       "  <tbody>\n",
       "    <tr>\n",
       "      <th>1</th>\n",
       "      <td>364</td>\n",
       "      <td>USC00513117</td>\n",
       "    </tr>\n",
       "    <tr>\n",
       "      <th>5</th>\n",
       "      <td>364</td>\n",
       "      <td>USC00519281</td>\n",
       "    </tr>\n",
       "    <tr>\n",
       "      <th>0</th>\n",
       "      <td>363</td>\n",
       "      <td>USC00519397</td>\n",
       "    </tr>\n",
       "    <tr>\n",
       "      <th>6</th>\n",
       "      <td>341</td>\n",
       "      <td>USC00516128</td>\n",
       "    </tr>\n",
       "    <tr>\n",
       "      <th>4</th>\n",
       "      <td>340</td>\n",
       "      <td>USC00519523</td>\n",
       "    </tr>\n",
       "    <tr>\n",
       "      <th>2</th>\n",
       "      <td>303</td>\n",
       "      <td>USC00514830</td>\n",
       "    </tr>\n",
       "    <tr>\n",
       "      <th>3</th>\n",
       "      <td>207</td>\n",
       "      <td>USC00517948</td>\n",
       "    </tr>\n",
       "  </tbody>\n",
       "</table>\n",
       "</div>"
      ],
      "text/plain": [
       "   obs count      station\n",
       "1        364  USC00513117\n",
       "5        364  USC00519281\n",
       "0        363  USC00519397\n",
       "6        341  USC00516128\n",
       "4        340  USC00519523\n",
       "2        303  USC00514830\n",
       "3        207  USC00517948"
      ]
     },
     "execution_count": 20,
     "metadata": {},
     "output_type": "execute_result"
    }
   ],
   "source": [
    "#Exact replica of the method used above to find the most popular station. Many of the variables are simply renamed with an extra 1.\n",
    "#The only difference is that this method was only run on the data from the last year (bin_df)\n",
    "station_names1 = bin_df['station'].unique()\n",
    "\n",
    "stations_list_counts1 = [0 for y in range(0, len(station_names1))]\n",
    "for x in range(0,len(station_names1)):\n",
    "    counter=0\n",
    "    \n",
    "    for station in bin_df['station']:\n",
    "        if station == str(station_names1[x]):\n",
    "            counter=counter+1   \n",
    "    stations_list_counts1[x] = counter\n",
    "print(station_names1)\n",
    "print(stations_list_counts1)\n",
    "test_dict1 = {\n",
    "    \"station\": station_names1,\n",
    "    \"obs count\": stations_list_counts1\n",
    "}\n",
    "obs_count_df1 = pd.DataFrame(test_dict1)\n",
    "obs_count_df1 = obs_count_df1.sort_values(by=['obs count'], ascending=False)\n",
    "obs_count_df1"
   ]
  },
  {
   "cell_type": "code",
   "execution_count": 21,
   "metadata": {},
   "outputs": [
    {
     "name": "stdout",
     "output_type": "stream",
     "text": [
      "[0, 1, 2, 3, 4, 5, 6]\n",
      "USC00513117\n"
     ]
    }
   ],
   "source": [
    "#Identical re-indexing method from above to get the most popular station\n",
    "index2 = [z for z in range(0, len(station_names1))]\n",
    "print(index2)\n",
    "obs_count_df1['index2'] = index2\n",
    "\n",
    "sorted_count_df1 = obs_count_df1.set_index('index2')\n",
    "sorted_count_df1.head()\n",
    "popstation1 = sorted_count_df1['station'][0]\n",
    "print(popstation1)"
   ]
  },
  {
   "cell_type": "code",
   "execution_count": 22,
   "metadata": {},
   "outputs": [
    {
     "name": "stdout",
     "output_type": "stream",
     "text": [
      "[datetime.date(2016, 5, 13), datetime.date(2016, 6, 12), datetime.date(2016, 7, 12), datetime.date(2016, 8, 11), datetime.date(2016, 9, 10), datetime.date(2016, 10, 10), datetime.date(2016, 11, 9), datetime.date(2016, 12, 9), datetime.date(2017, 1, 8), datetime.date(2017, 2, 7), datetime.date(2017, 3, 9), datetime.date(2017, 4, 8), datetime.date(2017, 5, 8)]\n",
      "13\n"
     ]
    }
   ],
   "source": [
    "#Create a series of bins corresponding to approximately 1 month of data (used to create histogram)\n",
    "bins = []\n",
    "current_date = twelve_months_date\n",
    "for t in range(0, 13):\n",
    "    bins.append(current_date)\n",
    "    current_date = current_date+datetime.timedelta(30)\n",
    "#Verify bins and length of bins list\n",
    "print(bins)    \n",
    "print(len(bins))"
   ]
  },
  {
   "cell_type": "code",
   "execution_count": 36,
   "metadata": {},
   "outputs": [
    {
     "data": {
      "text/html": [
       "<div>\n",
       "<style scoped>\n",
       "    .dataframe tbody tr th:only-of-type {\n",
       "        vertical-align: middle;\n",
       "    }\n",
       "\n",
       "    .dataframe tbody tr th {\n",
       "        vertical-align: top;\n",
       "    }\n",
       "\n",
       "    .dataframe thead th {\n",
       "        text-align: right;\n",
       "    }\n",
       "</style>\n",
       "<table border=\"1\" class=\"dataframe\">\n",
       "  <thead>\n",
       "    <tr style=\"text-align: right;\">\n",
       "      <th></th>\n",
       "      <th>station</th>\n",
       "      <th>date</th>\n",
       "      <th>tobs</th>\n",
       "    </tr>\n",
       "  </thead>\n",
       "  <tbody>\n",
       "    <tr>\n",
       "      <th>0</th>\n",
       "      <td>USC00513117</td>\n",
       "      <td>2016-05-14</td>\n",
       "      <td>72.0</td>\n",
       "    </tr>\n",
       "    <tr>\n",
       "      <th>1</th>\n",
       "      <td>USC00513117</td>\n",
       "      <td>2016-05-15</td>\n",
       "      <td>74.0</td>\n",
       "    </tr>\n",
       "    <tr>\n",
       "      <th>2</th>\n",
       "      <td>USC00513117</td>\n",
       "      <td>2016-05-16</td>\n",
       "      <td>75.0</td>\n",
       "    </tr>\n",
       "    <tr>\n",
       "      <th>3</th>\n",
       "      <td>USC00513117</td>\n",
       "      <td>2016-05-17</td>\n",
       "      <td>75.0</td>\n",
       "    </tr>\n",
       "    <tr>\n",
       "      <th>4</th>\n",
       "      <td>USC00513117</td>\n",
       "      <td>2016-05-18</td>\n",
       "      <td>74.0</td>\n",
       "    </tr>\n",
       "  </tbody>\n",
       "</table>\n",
       "</div>"
      ],
      "text/plain": [
       "       station        date  tobs\n",
       "0  USC00513117  2016-05-14  72.0\n",
       "1  USC00513117  2016-05-15  74.0\n",
       "2  USC00513117  2016-05-16  75.0\n",
       "3  USC00513117  2016-05-17  75.0\n",
       "4  USC00513117  2016-05-18  74.0"
      ]
     },
     "execution_count": 36,
     "metadata": {},
     "output_type": "execute_result"
    }
   ],
   "source": [
    "#Dataframe corresponding to the last year of data, taken solely by the station with the highest number of observations for that  year\n",
    "popstation_bin_df = pd.read_sql(\"Select station, date, tobs FROM measurements_table WHERE '{}' < date and date < '{}' and station = '{}' \".format(tmd, tmd2, popstation1), conn)\n",
    "popstation_bin_df.head()"
   ]
  },
  {
   "cell_type": "code",
   "execution_count": 24,
   "metadata": {},
   "outputs": [
    {
     "name": "stdout",
     "output_type": "stream",
     "text": [
      "[73, 75, 76, 76, 76, 75, 73, 69, 69, 69, 72, 72]\n",
      "[1, 2, 3, 4, 5, 6, 7, 8, 9, 10, 11, 12]\n"
     ]
    },
    {
     "name": "stderr",
     "output_type": "stream",
     "text": [
      "C:\\ProgramData\\Anaconda3\\lib\\site-packages\\ipykernel_launcher.py:14: UserWarning: Boolean Series key will be reindexed to match DataFrame index.\n",
      "  \n"
     ]
    }
   ],
   "source": [
    "#Lists to hold the x and y values for the histogram\n",
    "mean_monthly_temperatures_list = []\n",
    "months_list = []\n",
    "#List to hold the dates above to make code easier to read below\n",
    "dates_list = popstation_bin_df['date']\n",
    "\n",
    "#Loop through all bins (months)\n",
    "for m in range(0, 12):\n",
    "    #Assign a start and end date for the given segment\n",
    "    date1 = str(bins[m]) < dates_list\n",
    "    date2 = dates_list < str(bins[m+1])\n",
    "    #Create a new dataframe with the data from that month inside\n",
    "    month_df = popstation_bin_df[date1]\n",
    "    month_df = month_df[date2]\n",
    "    \n",
    "    #append mean temperature to the list of y values for the histogram\n",
    "    mean_monthly_temperature = int(month_df['tobs'].mean())\n",
    "    mean_monthly_temperatures_list.append(mean_monthly_temperature)\n",
    "    #Append integer list of x values for the histogram\n",
    "    months_list.append(m+1)\n",
    "#Print out the x and y values\n",
    "print(mean_monthly_temperatures_list)\n",
    "print(months_list)"
   ]
  },
  {
   "cell_type": "code",
   "execution_count": 26,
   "metadata": {},
   "outputs": [
    {
     "data": {
      "image/png": "[encoded data removed]",
      "text/plain": [
       "<matplotlib.figure.Figure at 0x1b2a4fa7be0>"
      ]
     },
     "metadata": {},
     "output_type": "display_data"
    }
   ],
   "source": [
    "#Create bar graph\n",
    "plt.bar(months_list, mean_monthly_temperatures_list, color='b', alpha=0.5, align=\"edge\")\n",
    "#Set tick locations and x-axis labels then put the ticks on the graph\n",
    "tick_locations = [value+0.4 for value in months_list]\n",
    "month_labels_list = ['May', 'June', 'July', 'August', 'September', 'October', 'November', 'December', 'January', 'February', 'March', 'April']\n",
    "plt.xticks(tick_locations, month_labels_list, rotation=45)\n",
    "#Set ylimits to make the monthly differences more clear\n",
    "plt.ylim(65, 80)\n",
    "#Add title and axes labels\n",
    "plt.title(\"Mean Monthly Temperatures in Hawaii\")\n",
    "plt.xlabel(\"Month\")\n",
    "plt.ylabel(\"Mean Temperature (F)\")\n",
    "\n",
    "#Loop through each bar in the graph and place its corresponding y value directly above the bar\n",
    "for t in range(0, len(months_list)):\n",
    "    plt.text(tick_locations[t]-0.2, mean_monthly_temperatures_list[t]+0.3, str(mean_monthly_temperatures_list[t]))\n",
    "#Save and display the figure\n",
    "plt.savefig('temperatures_histogram')\n",
    "plt.show()"
   ]
  },
  {
   "cell_type": "code",
   "execution_count": 38,
   "metadata": {},
   "outputs": [
    {
     "data": {
      "text/html": [
       "<div>\n",
       "<style scoped>\n",
       "    .dataframe tbody tr th:only-of-type {\n",
       "        vertical-align: middle;\n",
       "    }\n",
       "\n",
       "    .dataframe tbody tr th {\n",
       "        vertical-align: top;\n",
       "    }\n",
       "\n",
       "    .dataframe thead th {\n",
       "        text-align: right;\n",
       "    }\n",
       "</style>\n",
       "<table border=\"1\" class=\"dataframe\">\n",
       "  <thead>\n",
       "    <tr style=\"text-align: right;\">\n",
       "      <th></th>\n",
       "      <th>station</th>\n",
       "      <th>date</th>\n",
       "      <th>tobs</th>\n",
       "    </tr>\n",
       "  </thead>\n",
       "  <tbody>\n",
       "    <tr>\n",
       "      <th>0</th>\n",
       "      <td>USC00519397</td>\n",
       "      <td>2010-01-01</td>\n",
       "      <td>65.0</td>\n",
       "    </tr>\n",
       "    <tr>\n",
       "      <th>1</th>\n",
       "      <td>USC00519397</td>\n",
       "      <td>2010-01-02</td>\n",
       "      <td>63.0</td>\n",
       "    </tr>\n",
       "    <tr>\n",
       "      <th>2</th>\n",
       "      <td>USC00519397</td>\n",
       "      <td>2010-01-03</td>\n",
       "      <td>74.0</td>\n",
       "    </tr>\n",
       "    <tr>\n",
       "      <th>3</th>\n",
       "      <td>USC00519397</td>\n",
       "      <td>2010-01-04</td>\n",
       "      <td>76.0</td>\n",
       "    </tr>\n",
       "    <tr>\n",
       "      <th>4</th>\n",
       "      <td>USC00519397</td>\n",
       "      <td>2010-01-06</td>\n",
       "      <td>73.0</td>\n",
       "    </tr>\n",
       "  </tbody>\n",
       "</table>\n",
       "</div>"
      ],
      "text/plain": [
       "       station        date  tobs\n",
       "0  USC00519397  2010-01-01  65.0\n",
       "1  USC00519397  2010-01-02  63.0\n",
       "2  USC00519397  2010-01-03  74.0\n",
       "3  USC00519397  2010-01-04  76.0\n",
       "4  USC00519397  2010-01-06  73.0"
      ]
     },
     "execution_count": 38,
     "metadata": {},
     "output_type": "execute_result"
    }
   ],
   "source": [
    "#Create a dataframe with station, date and tobs data from all dates and stations\n",
    "full_df = pd.read_sql(\"Select station, date, tobs FROM measurements_table\", conn)\n",
    "#Save the dates into a list to make the code cleaner below\n",
    "trip_dates_list = full_df['date']\n",
    "full_df.to_csv('fulldata.csv')\n",
    "full_df.head()"
   ]
  },
  {
   "cell_type": "code",
   "execution_count": 30,
   "metadata": {},
   "outputs": [],
   "source": [
    "#Define calc_temps function which takes a start and end date and returns all data within the date range\n",
    "def calc_temps(start_date, end_date):\n",
    "    # <= and >= used to solve issues where the vacation date is only 1 day\n",
    "    df_start_date = start_date <= trip_dates_list\n",
    "    df_end_date = trip_dates_list <= end_date\n",
    "    #Return the dataframe for the corresponding date range\n",
    "    calc_temps_df = full_df[df_start_date]\n",
    "    calc_temps_df = calc_temps_df[df_end_date]\n",
    "    #Create a list to calculate the min, average and max temperatures\n",
    "    temps_list = calc_temps_df['tobs']\n",
    "    mintemp = temps_list.min() \n",
    "    avgtemp = temps_list.mean()\n",
    "    maxtemp = temps_list.max()\n",
    "    #Return calculated values\n",
    "    return mintemp, avgtemp, maxtemp;"
   ]
  },
  {
   "cell_type": "code",
   "execution_count": null,
   "metadata": {},
   "outputs": [],
   "source": [
    "#Create a second calc_temps method used in one of the paths in the flask api\n",
    "\n",
    "#Define calc_temps function which takes a start and end date and returns all data within the date range\n",
    "def calc_temps1(start_date):\n",
    "    # <= and >= used to solve issues where the vacation date is only 1 day\n",
    "    df_start_date = start_date <= trip_dates_list\n",
    "    #Return the dataframe for the corresponding date range\n",
    "    calc_temps_df = full_df[df_start_date]\n",
    "    #Create a list to calculate the min, average and max temperatures\n",
    "    temps_list = calc_temps_df['tobs']\n",
    "    mintemp = temps_list.min() \n",
    "    avgtemp = temps_list.mean()\n",
    "    maxtemp = temps_list.max()\n",
    "    #Return calculated values\n",
    "    return mintemp, avgtemp, maxtemp;"
   ]
  },
  {
   "cell_type": "code",
   "execution_count": 31,
   "metadata": {},
   "outputs": [
    {
     "name": "stdout",
     "output_type": "stream",
     "text": [
      "Enter your start date: YYYY-MM-DD e.g. 2015-02-07    2017-02-09\n",
      "Enter your end date: YYYY-MM-DD e.g. 2015-02-09    2017-02-15\n"
     ]
    },
    {
     "name": "stderr",
     "output_type": "stream",
     "text": [
      "C:\\ProgramData\\Anaconda3\\lib\\site-packages\\ipykernel_launcher.py:8: UserWarning: Boolean Series key will be reindexed to match DataFrame index.\n",
      "  \n"
     ]
    },
    {
     "data": {
      "text/plain": [
       "(59.0, 70.6086956521739, 80.0)"
      ]
     },
     "execution_count": 31,
     "metadata": {},
     "output_type": "execute_result"
    }
   ],
   "source": [
    "#Define inputs and create a list to store the returned values\n",
    "start_date = input(\"Enter your start date: YYYY-MM-DD e.g. 2015-02-07    \")\n",
    "end_date = input(\"Enter your end date: YYYY-MM-DD e.g. 2015-02-09    \")\n",
    "temprange_values_list = calc_temps(start_date, end_date)\n",
    "#Call calc_temps\n",
    "calc_temps(start_date, end_date)"
   ]
  },
  {
   "cell_type": "code",
   "execution_count": 33,
   "metadata": {},
   "outputs": [
    {
     "data": {
      "image/png": "[encoded data removed]",
      "text/plain": [
       "<matplotlib.figure.Figure at 0x1b2a4fbe320>"
      ]
     },
     "metadata": {},
     "output_type": "display_data"
    }
   ],
   "source": [
    "#Since there is only one bar I set the x value to 3 and the range from 0 to 6 to place the bar near the center and have it not take up too much space\n",
    "x_axis = [3]\n",
    "#Define peak to peak value to calculate error\n",
    "y_peak_to_peak = temprange_values_list[2] - temprange_values_list[0]\n",
    "#Error is half of the peak to peak value\n",
    "y_error = y_peak_to_peak/2\n",
    "#Create bar graph, set error to be +/- half of the peak to peak value\n",
    "plt.bar(x_axis, temprange_values_list[1], color='b', alpha=0.5, align=\"edge\", yerr=y_error)\n",
    "#Manually define tick locations since we need two x values but only have 1 y value\n",
    "tick_locations = [3, 3.8]\n",
    "#Label the start and end of the bar with the start and end vacation dates\n",
    "plt.xticks(tick_locations, [start_date, end_date], rotation=45)\n",
    "#Modify x and y limits to make the graph easier to read\n",
    "plt.xlim(0, 6)\n",
    "plt.ylim(50, 90)\n",
    "#Add title and axis labels\n",
    "plt.title(\"Estimated Vacation Temperature in Hawaii\")\n",
    "plt.xlabel(\"Vacation Dates\")\n",
    "plt.ylabel(\"Temperature (F)\")\n",
    "\n",
    "#Loop through all bars (only 1 bar) and add mean, and upper and lower error bar values\n",
    "for t in range(0, len(x_axis)):\n",
    "    plt.text(tick_locations[t]+0.9, temprange_values_list[1], str(int(temprange_values_list[1])))\n",
    "    plt.text(tick_locations[t]+0.9, temprange_values_list[0]-0.3, str(int(temprange_values_list[0])-y_error))\n",
    "    plt.text(tick_locations[t]+0.9, temprange_values_list[2], str(int(temprange_values_list[2])+y_error))\n",
    "#save and show figure\n",
    "plt.savefig('vacation_temperature_with_error')\n",
    "plt.show()"
   ]
  },
  {
   "cell_type": "code",
   "execution_count": null,
   "metadata": {},
   "outputs": [],
   "source": [
    "#All flask code is in the flask_api_website2.py file"
   ]
  }
 ],
 "metadata": {
  "kernelspec": {
   "display_name": "Python 3",
   "language": "python",
   "name": "python3"
  },
  "language_info": {
   "codemirror_mode": {
    "name": "ipython",
    "version": 3
   },
   "file_extension": ".py",
   "mimetype": "text/x-python",
   "name": "python",
   "nbconvert_exporter": "python",
   "pygments_lexer": "ipython3",
   "version": "3.6.4"
  }
 },
 "nbformat": 4,
 "nbformat_minor": 2
}
